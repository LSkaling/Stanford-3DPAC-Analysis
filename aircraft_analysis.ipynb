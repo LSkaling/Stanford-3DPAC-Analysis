{
 "cells": [
  {
   "cell_type": "code",
   "execution_count": 23,
   "metadata": {},
   "outputs": [],
   "source": [
    "import math\n",
    "\n",
    "def breakdown_lap(lap_distance, turn_length, straight_length):\n",
    "    sequence = [turn_length, straight_length]  # Alternating pattern\n",
    "    total = 0.0\n",
    "    segment_index = 0\n",
    "    segment_counts = {'turns': 0, 'straights': 0}\n",
    "    \n",
    "    while total + sequence[segment_index % 2] <= lap_distance:\n",
    "        if segment_index % 2 == 0:\n",
    "            segment_counts['turns'] += 1\n",
    "        else:\n",
    "            segment_counts['straights'] += 1\n",
    "        total += sequence[segment_index % 2]\n",
    "        segment_index += 1\n",
    "\n",
    "    # Add fractional leftover\n",
    "    remaining = lap_distance - total\n",
    "    if remaining > 0:\n",
    "        if segment_index % 2 == 0:\n",
    "            segment_counts['turns'] += remaining / turn_length\n",
    "        else:\n",
    "            segment_counts['straights'] += remaining / straight_length\n",
    "\n",
    "    return segment_counts"
   ]
  },
  {
   "cell_type": "code",
   "execution_count": 24,
   "metadata": {},
   "outputs": [],
   "source": [
    "class Aircraft:\n",
    "\n",
    "    def __init__(self, name, wing_area, wing_coefficient_of_lift, wing_coefficient_of_drag):\n",
    "        self.name = name\n",
    "        self.wing_area = wing_area\n",
    "        self.wing_coefficient_of_lift = wing_coefficient_of_lift\n",
    "        self.wing_coefficient_of_drag = wing_coefficient_of_drag"
   ]
  },
  {
   "cell_type": "code",
   "execution_count": 31,
   "metadata": {},
   "outputs": [],
   "source": [
    "aircraft_configs = {\n",
    "    \"N22\": Aircraft(\"N22\", 0.154, 0.78955, 0.04020),\n",
    "    \"N22-0.75\": Aircraft(\"N22-0.75\", 0.154, 0.79134, 0.03434),\n",
    "    \"N22-0.5\": Aircraft(\"N22-0.5\", 0.154, 0.55906, 0.02300),\n",
    "    \"N22-0.25\": Aircraft(\"N22-0.5\", 0.154, 0.37165, 0.01747),    \n",
    "    \"NACA-0012\": Aircraft(\"NACA-0012\", 0.154, 0.54972, 0.02514)\n",
    "}\n",
    "\n",
    "\n",
    "aircraft_weight = 0.400 #g\n",
    "air_density = 1.225 #kg/m^3\n",
    "\n"
   ]
  },
  {
   "cell_type": "code",
   "execution_count": 33,
   "metadata": {},
   "outputs": [
    {
     "name": "stdout",
     "output_type": "stream",
     "text": [
      "Aircraft velocity:  8.699220187871173\n",
      "Flight time:  70.86575178997613\n",
      "Flight distance:  598.926014319809\n",
      "Straight segments:  3.586109228011849\n",
      "Turn segments:  4\n"
     ]
    }
   ],
   "source": [
    "aircraft_config = aircraft_configs[\"NACA-0012\"]\n",
    "wing_area = aircraft_config.wing_area\n",
    "wing_coefficient_of_lift = aircraft_config.wing_coefficient_of_lift\n",
    "wing_coefficient_of_drag = aircraft_config.wing_coefficient_of_drag\n",
    "glide_slope = wing_coefficient_of_lift / wing_coefficient_of_drag\n",
    "\n",
    "\n",
    "aircraft_velocity = math.sqrt((2 * aircraft_weight * 9.81) / (air_density * wing_area * wing_coefficient_of_lift))\n",
    "print(\"Aircraft velocity: \", aircraft_velocity)\n",
    "#Hand toss glide\n",
    "initial_altitude_equvalent = 5 #m\n",
    "initial_toss_distance = initial_altitude_equvalent * glide_slope\n",
    "initial_toss_avg_velocity = 8 # m/s\n",
    "hand_toss_glide_time = initial_toss_distance / initial_toss_avg_velocity\n",
    "\n",
    "#Throttle distance\n",
    "throttle_time = 8#s\n",
    "throttle_avg_velocity = 12 # m/s\n",
    "throttle_distance = throttle_avg_velocity * throttle_time\n",
    "\n",
    "#Final glide distance\n",
    "elevation = 18 #18m for UTA, 10.6m for Cal State\n",
    "final_glide_distance = elevation * glide_slope\n",
    "final_glide_avg_velocity = 8 # m/s\n",
    "final_glide_time = final_glide_distance / final_glide_avg_velocity\n",
    "\n",
    "#Total distance and time\n",
    "total_distance = initial_toss_distance + throttle_distance + final_glide_distance\n",
    "total_time = hand_toss_glide_time + throttle_time + final_glide_time\n",
    "\n",
    "#Field length\n",
    "field_length = 91.4 #m\n",
    "field_width = 48.7 #m\n",
    "turn_radius = 15#m\n",
    "edge_distance = 5 #m #assuming 5m from the edge of the field\n",
    "\n",
    "initial_straight_field_distance = field_length - (turn_radius + edge_distance)\n",
    "turn_field_distance = (2 * 3.14 * turn_radius / 2) + (field_width - 2 * edge_distance)\n",
    "straight_field_distance = field_length - 2*(turn_radius + edge_distance)\n",
    "\n",
    "# print(\"Initial straight field distance: \", initial_straight_field_distance)\n",
    "# print(\"Turn field distance: \", turn_field_distance)\n",
    "# print(\"Straight field distance: \", straight_field_distance)\n",
    "\n",
    "print(\"Flight time: \", total_time)\n",
    "print(\"Flight distance: \", total_distance)\n",
    "#Flight distance\n",
    "\n",
    "lap_distance = total_distance - initial_straight_field_distance\n",
    "\n",
    "lap_breakdown = breakdown_lap(lap_distance, turn_field_distance, straight_field_distance)\n",
    "print(\"Straight segments: \", lap_breakdown['straights'])\n",
    "print(\"Turn segments: \", lap_breakdown['turns'])"
   ]
  }
 ],
 "metadata": {
  "kernelspec": {
   "display_name": "Python 3",
   "language": "python",
   "name": "python3"
  },
  "language_info": {
   "codemirror_mode": {
    "name": "ipython",
    "version": 3
   },
   "file_extension": ".py",
   "mimetype": "text/x-python",
   "name": "python",
   "nbconvert_exporter": "python",
   "pygments_lexer": "ipython3",
   "version": "3.9.6"
  }
 },
 "nbformat": 4,
 "nbformat_minor": 2
}
